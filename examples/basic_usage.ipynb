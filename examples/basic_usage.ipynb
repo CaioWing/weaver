{
 "cells": [
  {
   "cell_type": "markdown",
   "id": "292712c3",
   "metadata": {},
   "source": [
    "This is the initial Weaver's basic usage. You can now generate your sintatic data with Pydantic integration.  \n",
    "\n",
    "### Models\n",
    "\n",
    "Define your pydantic models to structure the generated data."
   ]
  },
  {
   "cell_type": "code",
   "execution_count": 3,
   "id": "4f7ab36a",
   "metadata": {},
   "outputs": [],
   "source": [
    "from pydantic import BaseModel\n",
    "from typing import List\n",
    "from weaver import Weaver\n",
    "\n",
    "\n",
    "# Define your Pydantic models\n",
    "class Order(BaseModel):\n",
    "    product_id: int\n",
    "    quantity: int\n",
    "    price: float\n",
    "\n",
    "\n",
    "class User(BaseModel):\n",
    "    name: str\n",
    "    email: str\n",
    "    age: int\n",
    "    orders: List[Order]\n"
   ]
  },
  {
   "cell_type": "markdown",
   "id": "8466b81e",
   "metadata": {},
   "source": [
    "Export your API KEY:"
   ]
  },
  {
   "cell_type": "code",
   "execution_count": null,
   "id": "39b307d3",
   "metadata": {},
   "outputs": [],
   "source": [
    "import os \n",
    "\n",
    "os.environ['OPENROUTER_API_KEY']=\"{YOUR_API_KEY}\""
   ]
  },
  {
   "cell_type": "code",
   "execution_count": 7,
   "id": "526eb3d7",
   "metadata": {},
   "outputs": [],
   "source": [
    "# Instanciate the Weaver class with the desired model\n",
    "weaver = Weaver(\n",
    "        provider=\"openrouter\",\n",
    "        model=\"google/gemini-2.5-flash-lite\",\n",
    "        temperature=0.3,\n",
    "        max_tokens=1000\n",
    "    )"
   ]
  },
  {
   "cell_type": "code",
   "execution_count": null,
   "id": "e8b8df5b",
   "metadata": {},
   "outputs": [],
   "source": [
    "weaver.generate(\n",
    "    model=User,\n",
    "    prompt=\"A 25-year-old user named João who made 2 orders of different products\"\n",
    ")"
   ]
  }
 ],
 "metadata": {
  "kernelspec": {
   "display_name": "weaver",
   "language": "python",
   "name": "python3"
  },
  "language_info": {
   "codemirror_mode": {
    "name": "ipython",
    "version": 3
   },
   "file_extension": ".py",
   "mimetype": "text/x-python",
   "name": "python",
   "nbconvert_exporter": "python",
   "pygments_lexer": "ipython3",
   "version": "3.12.3"
  }
 },
 "nbformat": 4,
 "nbformat_minor": 5
}
