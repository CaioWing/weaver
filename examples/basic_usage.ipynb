{
 "cells": [
  {
   "cell_type": "markdown",
   "id": "292712c3",
   "metadata": {},
   "source": [
    "This is the initial Weaver's basic usage. You can now generate your sintatic data with Pydantic integration.  \n",
    "\n",
    "### Models\n",
    "\n",
    "Define your pydantic models to structure the generated data."
   ]
  },
  {
   "cell_type": "code",
   "execution_count": 3,
   "id": "4f7ab36a",
   "metadata": {},
   "outputs": [],
   "source": [
    "from pydantic import BaseModel\n",
    "from typing import List\n",
    "from weaver import Weaver\n",
    "\n",
    "\n",
    "# Define your Pydantic models\n",
    "class Order(BaseModel):\n",
    "    product_id: int\n",
    "    quantity: int\n",
    "    price: float\n",
    "\n",
    "\n",
    "class User(BaseModel):\n",
    "    name: str\n",
    "    email: str\n",
    "    age: int\n",
    "    orders: List[Order]\n"
   ]
  },
  {
   "cell_type": "markdown",
   "id": "8466b81e",
   "metadata": {},
   "source": [
    "Export your API KEY:"
   ]
  },
  {
   "cell_type": "code",
   "execution_count": null,
   "id": "39b307d3",
   "metadata": {},
   "outputs": [],
   "source": [
    "import os \n",
    "\n",
    "os.environ['OPENROUTER_API_KEY']=\"{YOUR_API_KEY}\""
   ]
  },
  {
   "cell_type": "code",
   "execution_count": 7,
   "id": "526eb3d7",
   "metadata": {},
   "outputs": [],
   "source": [
    "# Instanciate the Weaver class with the desired model\n",
    "weaver = Weaver(\n",
    "        provider=\"openrouter\",\n",
    "        model=\"google/gemini-2.5-flash-lite\",\n",
    "        temperature=0.3,\n",
    "        max_tokens=1000\n",
    "    )"
   ]
  },
  {
   "cell_type": "code",
   "execution_count": 10,
   "id": "e8b8df5b",
   "metadata": {},
   "outputs": [
    {
     "data": {
      "text/plain": [
       "[User(name='Alice Smith', email='alice.smith@example.com', age=25, orders=[Order(product_id=101, quantity=2, price=19.99), Order(product_id=105, quantity=1, price=49.5)]),\n",
       " User(name='Bob Johnson', email='bob.johnson@example.com', age=25, orders=[Order(product_id=203, quantity=1, price=150.0), Order(product_id=210, quantity=3, price=25.75)]),\n",
       " User(name='Charlie Brown', email='charlie.brown@example.com', age=25, orders=[Order(product_id=301, quantity=5, price=5.99), Order(product_id=308, quantity=1, price=75.2)]),\n",
       " User(name='Diana Prince', email='diana.prince@example.com', age=25, orders=[Order(product_id=402, quantity=1, price=299.99), Order(product_id=415, quantity=2, price=35.0)]),\n",
       " User(name='Ethan Hunt', email='ethan.hunt@example.com', age=25, orders=[Order(product_id=505, quantity=1, price=12.5), Order(product_id=511, quantity=4, price=8.75)])]"
      ]
     },
     "execution_count": 10,
     "metadata": {},
     "output_type": "execute_result"
    }
   ],
   "source": [
    "weaver.generate(\n",
    "    model=User,\n",
    "    prompt=\"A 25-year-old user who made 2 orders of different products\",\n",
    "    count=5\n",
    ")"
   ]
  }
 ],
 "metadata": {
  "kernelspec": {
   "display_name": "weaver",
   "language": "python",
   "name": "python3"
  },
  "language_info": {
   "codemirror_mode": {
    "name": "ipython",
    "version": 3
   },
   "file_extension": ".py",
   "mimetype": "text/x-python",
   "name": "python",
   "nbconvert_exporter": "python",
   "pygments_lexer": "ipython3",
   "version": "3.12.3"
  }
 },
 "nbformat": 4,
 "nbformat_minor": 5
}
